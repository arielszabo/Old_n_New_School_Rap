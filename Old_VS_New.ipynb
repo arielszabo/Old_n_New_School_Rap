{
 "cells": [
  {
   "cell_type": "markdown",
   "metadata": {},
   "source": [
    "# New school VS Old School HipHop Which is better? Is there any difference?\n",
    "\n",
    "You can often hear that there is a difference between old school & new school Hip Hop, many argue that old school Hip Hop is better and many argue otherwise.\n",
    "\n",
    "![alt text](https://cdn-images-1.medium.com/max/800/1*X9WzT11cauXIlwL7tGmpvw.jpeg \"Logo Title Text 1\")\n",
    "\n",
    "\n",
    "Today I'll try to answer the first question - Is there a difference between old school & new school Hip Hop?<br/>\n",
    "I'll focus on the difference in the lyrics.\n",
    "\n",
    "\n",
    "I'll start with some simple lyrics analysis, then I'll try to teach a model to distinguish between old school and new school lyrics and finally we will interpret the model's decisions.\n",
    "\n",
    "\n",
    "For this experiment I picked around 60 rappers, some from the old school and some from the new school.<br/>\n",
    "I used the [Genius API](https://docs.genius.com/) to extract the songs' webpages and then html parsers to extract the lyrics  themselves.<br/>\n",
    "I've built a wrapper around the API for this use, you can check it out in this [GitHub page]()\n",
    "\n",
    "\n",
    "\n",
    "#### Enough talking, let's start working:\n",
    "\n",
    "- Cleaning data:\n",
    "    - clean strage lyrics like skits, snippet and nun-english ...\n",
    "    - clean outliers like high/low word count\n",
    "    - duplicate data\n",
    "    - clean the lyrics themselves\n",
    "- EDA:\n",
    "    - word cloud\n",
    "    - word cloud per rapper_type\n",
    "    - rapper_type countplot\n",
    "- ML:\n",
    "    - Kfold & GridSearch\n",
    "- Eli5"
   ]
  },
  {
   "cell_type": "markdown",
   "metadata": {},
   "source": [
    "## Analysis"
   ]
  },
  {
   "cell_type": "code",
   "execution_count": 1,
   "metadata": {},
   "outputs": [],
   "source": [
    "# Load our modules and data\n",
    "import pandas as pd\n",
    "import numpy as np\n",
    "import matplotlib.pyplot as plt\n",
    "import seaborn as sns\n",
    "import os\n",
    "import re\n",
    "# %matplotlib inline\n",
    "sns.set()\n",
    "np.random.seed(1)"
   ]
  },
  {
   "cell_type": "code",
   "execution_count": 2,
   "metadata": {},
   "outputs": [
    {
     "data": {
      "text/html": [
       "<div>\n",
       "<style scoped>\n",
       "    .dataframe tbody tr th:only-of-type {\n",
       "        vertical-align: middle;\n",
       "    }\n",
       "\n",
       "    .dataframe tbody tr th {\n",
       "        vertical-align: top;\n",
       "    }\n",
       "\n",
       "    .dataframe thead th {\n",
       "        text-align: right;\n",
       "    }\n",
       "</style>\n",
       "<table border=\"1\" class=\"dataframe\">\n",
       "  <thead>\n",
       "    <tr style=\"text-align: right;\">\n",
       "      <th></th>\n",
       "      <th>song_url</th>\n",
       "      <th>lyrics</th>\n",
       "      <th>artist</th>\n",
       "      <th>rapper_type</th>\n",
       "    </tr>\n",
       "  </thead>\n",
       "  <tbody>\n",
       "    <tr>\n",
       "      <th>0</th>\n",
       "      <td>https://genius.com/Jay-z-03-bonnie-and-clyde-l...</td>\n",
       "      <td>\\n\\n[Intro: Jay Z]\\nUhh, uhh, uhh\\nYou ready, ...</td>\n",
       "      <td>2pac</td>\n",
       "      <td>old_school_rappers</td>\n",
       "    </tr>\n",
       "    <tr>\n",
       "      <th>1</th>\n",
       "      <td>https://genius.com/2pac-16-on-death-row-lyrics</td>\n",
       "      <td>\\n\\n[Intro]\\nDeath Row\\nThat's where mothafuck...</td>\n",
       "      <td>2pac</td>\n",
       "      <td>old_school_rappers</td>\n",
       "    </tr>\n",
       "    <tr>\n",
       "      <th>2</th>\n",
       "      <td>https://genius.com/Bknappbeats-16-on-death-row...</td>\n",
       "      <td>\\n\\n[Verse 1]\\nI'm caught up in this sickness\\...</td>\n",
       "      <td>2pac</td>\n",
       "      <td>old_school_rappers</td>\n",
       "    </tr>\n",
       "    <tr>\n",
       "      <th>3</th>\n",
       "      <td>https://genius.com/2pac-187-on-a-hook-remix-ly...</td>\n",
       "      <td>\\n\\n[Hook: C-Bo] (2X)\\nWest side, it's 187 on ...</td>\n",
       "      <td>2pac</td>\n",
       "      <td>old_school_rappers</td>\n",
       "    </tr>\n",
       "    <tr>\n",
       "      <th>4</th>\n",
       "      <td>https://genius.com/2pac-1995-police-station-te...</td>\n",
       "      <td>\\n\\nWoman – Sir, will you raise your right han...</td>\n",
       "      <td>2pac</td>\n",
       "      <td>old_school_rappers</td>\n",
       "    </tr>\n",
       "  </tbody>\n",
       "</table>\n",
       "</div>"
      ],
      "text/plain": [
       "                                            song_url  \\\n",
       "0  https://genius.com/Jay-z-03-bonnie-and-clyde-l...   \n",
       "1     https://genius.com/2pac-16-on-death-row-lyrics   \n",
       "2  https://genius.com/Bknappbeats-16-on-death-row...   \n",
       "3  https://genius.com/2pac-187-on-a-hook-remix-ly...   \n",
       "4  https://genius.com/2pac-1995-police-station-te...   \n",
       "\n",
       "                                              lyrics artist  \\\n",
       "0  \\n\\n[Intro: Jay Z]\\nUhh, uhh, uhh\\nYou ready, ...   2pac   \n",
       "1  \\n\\n[Intro]\\nDeath Row\\nThat's where mothafuck...   2pac   \n",
       "2  \\n\\n[Verse 1]\\nI'm caught up in this sickness\\...   2pac   \n",
       "3  \\n\\n[Hook: C-Bo] (2X)\\nWest side, it's 187 on ...   2pac   \n",
       "4  \\n\\nWoman – Sir, will you raise your right han...   2pac   \n",
       "\n",
       "          rapper_type  \n",
       "0  old_school_rappers  \n",
       "1  old_school_rappers  \n",
       "2  old_school_rappers  \n",
       "3  old_school_rappers  \n",
       "4  old_school_rappers  "
      ]
     },
     "execution_count": 2,
     "metadata": {},
     "output_type": "execute_result"
    }
   ],
   "source": [
    "data = pd.read_excel(r'lyrics2.xlsx')\n",
    "data.head()"
   ]
  },
  {
   "cell_type": "code",
   "execution_count": 3,
   "metadata": {},
   "outputs": [
    {
     "name": "stdout",
     "output_type": "stream",
     "text": [
      "<class 'pandas.core.frame.DataFrame'>\n",
      "Int64Index: 14663 entries, 0 to 14662\n",
      "Data columns (total 4 columns):\n",
      "song_url       14663 non-null object\n",
      "lyrics         14663 non-null object\n",
      "artist         14663 non-null object\n",
      "rapper_type    14663 non-null object\n",
      "dtypes: object(4)\n",
      "memory usage: 572.8+ KB\n"
     ]
    }
   ],
   "source": [
    "data.info()"
   ]
  },
  {
   "cell_type": "markdown",
   "metadata": {},
   "source": [
    "## Cleaning the lyrics:\n",
    "After I've viewd some lyrics I have some notes about cleaning the data:\n",
    "1. The rappers names are writen between square brackets - \"[]\". **We would like to delete this.**\n",
    "2. Sometimes we can see lyrics between brackets. Sometimes it is part of the song but sometimes it's not. **I'll delete this for now but I'm not sure this is a good step**\n",
    "3. There is a lot of spelling errors and slang abbreviations!\n",
    "4. There are some real strange lyrics which I'm not sure how We got them, like lyrics with full Asian or Arabic charachters, lyrics with no words or a line that sais there is no lyrics etc. **We'll try to locate them and delete them and treat them as outliers**\n",
    "\n",
    "The next line of code generates a random line in data.<br/>\n",
    "Then we print it's lyrics and it's url (no real need for this url but It can help if you want to view more about the lyrics)"
   ]
  },
  {
   "cell_type": "code",
   "execution_count": 4,
   "metadata": {},
   "outputs": [
    {
     "name": "stdout",
     "output_type": "stream",
     "text": [
      "https://genius.com/Mac-miller-face-the-facts-lyrics\n",
      "\n",
      "\n",
      "[Intro]\n",
      "Just a display of rhyme skill man, that's what it is\n",
      "\n",
      "92 Till Infinity and beyond and beyond\n",
      "\n",
      "Alright look, muthafucka still rap, biatch !\n",
      "\n",
      "[Verse 1: Mac Miller]\n",
      "Hey, when I was 15 it was my dream to work with Preem\n",
      "He believe in what I do, so now he's makin' this beat\n",
      "And I'm writin' these rhymes, makin' sure that I kill it\n",
      "Shinin' like I'm acrylic, the government can't conceal it\n",
      "My style they tried to steal it, cause people startin' to feel it\n",
      "I'm goin' on these adventures, somethin' like on a field trip\n",
      "And now I'm growin' up, lookin' around this planet\n",
      "Some shit be goin' on and I just can't understand it\n",
      "No need to panic, I, got it expanded\n",
      "Is a million downloads I'm takin' over ya bandwidth\n",
      "Moments all candid, Kodak,reminisce and go back\n",
      "Life real good want ya'll to know that\n",
      "Don't have no deal and no half a mill\n",
      "Just on my Gang Starr shit with some Mass Appeal\n",
      "Go platinum independently, incredibly dope\n",
      "You need a telescope to come and get at me\n",
      "The naked eye could never see, and lebel my identity\n",
      "They see my middle finger, shut the fuck up and let me be\n",
      "That's how it's always been and how it will be\n",
      "Filthy ass rhymes, makin' money, but I'm still me\n",
      "Flippin' the mics, spittin' this nice\n",
      "Never could get everything that I liked\n",
      "Now I can cop it no matter the price\n",
      "Fuck it forget it I'm rappin' for life\n",
      "Can't tell me shit, I got my own mind\n",
      "6 in the mornin': that's go time\n",
      "\n",
      "[Verse 2: Mac Miller]\n",
      "Had to take the beat and let it breathe, using up the oxygen\n",
      "The kid he go and rock and there ain't nobody that stoppin' him\n",
      "Poppin' up, bars on bars, you see me stockin' up\n",
      "Working every second of the day is still not enough\n",
      "Not on that cocky stuff, want ya'll to acknowledge us\n",
      "If you don't suck my dick bitch, esophagus\n",
      "You probably just go all on the internet\n",
      "See a conversation then you feel the need to interject\n",
      "I ain't finished yet, you don't think this kid a threat ?\n",
      "I'm on a ?\n",
      "You an MP3, I'm still in cassette, vintage yet\n",
      "Futuristic with some shit that split your deck\n",
      "My cadence complex, rhyme without a concept\n",
      "Atomic rhymes, you just a stupid fake bomb threat\n",
      "6 in the mornin' and I'm writin' these ryhmes\n",
      "Workaholic, so you know that every night is a grind\n",
      "\n",
      "\n"
     ]
    }
   ],
   "source": [
    "random_url, random_lyrics = data[['song_url', 'lyrics']].sample(1).values[0]\n",
    "print(random_url)\n",
    "print(random_lyrics)"
   ]
  },
  {
   "cell_type": "markdown",
   "metadata": {},
   "source": [
    "### Find strange and ood lyrics\n",
    "In this section I'll find some odd and strange lyrics. Lyrics that ruin our data.\n",
    "We'll collect them and at the end we will drop them.<br/>\n",
    "If we are tring to classify rap lyrics we need our data to have proper rap lyrics, no snippets nor skits, nor anything like that, in our case I'll call this kind of bad data an outlier.\n",
    "\n",
    "\n",
    "\n",
    "As I was looking at the lyrics I found some [skits](https://en.wikipedia.org/wiki/Hip_hop_skit) between our lyrics.<br/>\n",
    "This is something we don't want in our data:"
   ]
  },
  {
   "cell_type": "code",
   "execution_count": 5,
   "metadata": {},
   "outputs": [],
   "source": [
    "skit_songs = data[data.song_url.str.contains('skit', case=False)]"
   ]
  },
  {
   "cell_type": "markdown",
   "metadata": {},
   "source": [
    "Similarly to the skits I found snippet lyrics. <br/>\n",
    "It's some times written in the actual url and some times it's in the lyrics themselves (with square brackets or with the * symbol around them)."
   ]
  },
  {
   "cell_type": "code",
   "execution_count": 6,
   "metadata": {},
   "outputs": [],
   "source": [
    "all_snippet = data[\n",
    "    data.song_url.str.contains('Snippet', case=False) | data.lyrics.str.contains('[\\*\\[]Snippet[\\*\\]]', case=False) \n",
    "                  ] # This pipe (\"|\") is an OR"
   ]
  },
  {
   "cell_type": "markdown",
   "metadata": {},
   "source": [
    "Actually all the song url without lyrics are not actual lyrics but something strage. Drop them !"
   ]
  },
  {
   "cell_type": "code",
   "execution_count": 7,
   "metadata": {},
   "outputs": [],
   "source": [
    "no_lyrics_in_url = data[~data.song_url.str.contains('lyrics', case=False, regex=False)]"
   ]
  },
  {
   "cell_type": "markdown",
   "metadata": {},
   "source": [
    "There can be other outliers like lyrics with no english (I saw at least one like this)"
   ]
  },
  {
   "cell_type": "code",
   "execution_count": 8,
   "metadata": {},
   "outputs": [],
   "source": [
    "no_english_lyrics = data[~data.lyrics.str.contains(r'[A-Za-z]')]"
   ]
  },
  {
   "cell_type": "code",
   "execution_count": null,
   "metadata": {},
   "outputs": [],
   "source": []
  },
  {
   "cell_type": "code",
   "execution_count": null,
   "metadata": {},
   "outputs": [],
   "source": []
  },
  {
   "cell_type": "markdown",
   "metadata": {},
   "source": [
    "# Outliers\n",
    "If we have already started talking about outliers, let's look at them a bit more.\n",
    "Can a rap song be without lyrics at all? What ?!? A rap song with no words? interesting ... maybe it's an outlier ?\n",
    "\n",
    "Let's create a feature of the amout of words in a song."
   ]
  },
  {
   "cell_type": "code",
   "execution_count": 9,
   "metadata": {},
   "outputs": [],
   "source": [
    "data['word_count'] = data['lyrics'].apply(lambda lyrics: len(lyrics.split()))"
   ]
  },
  {
   "cell_type": "markdown",
   "metadata": {},
   "source": [
    "Songs with no words (word_count == 0) are clearly outliers, they are just wrong entities. **I'll drop them**<br/>\n",
    "But what about higher values? or really small ones?\n",
    "\n",
    "In descriptive statistics, a [box plot](https://en.wikipedia.org/wiki/Box_plot) is a method for graphically depicting groups of numerical data through their quartiles.<br/>\n",
    "Box plots help us discover outliers in a distribution by a method called [IQR](https://en.wikipedia.org/wiki/Interquartile_range).<br/>\n",
    "I won't get into how they decide which data point is an outlier (go ahead and read more about IQR [here](https://en.wikipedia.org/wiki/Interquartile_range)).\n",
    "The points in the plot represent outliers based on the IQR calculation:"
   ]
  },
  {
   "cell_type": "code",
   "execution_count": 10,
   "metadata": {},
   "outputs": [
    {
     "data": {
      "image/png": "[encoded data removed]",
      "text/plain": [
       "<Figure size 432x288 with 1 Axes>"
      ]
     },
     "metadata": {},
     "output_type": "display_data"
    }
   ],
   "source": [
    "sns.boxplot(x=\"word_count\", data=data);"
   ]
  },
  {
   "cell_type": "markdown",
   "metadata": {},
   "source": [
    "Looks like a song with a little above 1000 words is considered to be an outlier.<br/>\n",
    "let's plot the boxplot without them and show them as well:"
   ]
  },
  {
   "cell_type": "code",
   "execution_count": 11,
   "metadata": {},
   "outputs": [
    {
     "data": {
      "image/png": "[encoded data removed]",
      "text/plain": [
       "<Figure size 432x288 with 1 Axes>"
      ]
     },
     "metadata": {},
     "output_type": "display_data"
    }
   ],
   "source": [
    "sns.boxplot(x=\"word_count\", data=data[data.word_count < 1130]);"
   ]
  },
  {
   "cell_type": "code",
   "execution_count": 12,
   "metadata": {
    "scrolled": true
   },
   "outputs": [
    {
     "data": {
      "text/html": [
       "<div>\n",
       "<style scoped>\n",
       "    .dataframe tbody tr th:only-of-type {\n",
       "        vertical-align: middle;\n",
       "    }\n",
       "\n",
       "    .dataframe tbody tr th {\n",
       "        vertical-align: top;\n",
       "    }\n",
       "\n",
       "    .dataframe thead th {\n",
       "        text-align: right;\n",
       "    }\n",
       "</style>\n",
       "<table border=\"1\" class=\"dataframe\">\n",
       "  <thead>\n",
       "    <tr style=\"text-align: right;\">\n",
       "      <th></th>\n",
       "      <th>song_url</th>\n",
       "      <th>lyrics</th>\n",
       "      <th>artist</th>\n",
       "      <th>rapper_type</th>\n",
       "      <th>word_count</th>\n",
       "    </tr>\n",
       "  </thead>\n",
       "  <tbody>\n",
       "    <tr>\n",
       "      <th>19</th>\n",
       "      <td>https://genius.com/2pac-2pac-cypher-part-2-lyrics</td>\n",
       "      <td>\\n\\n[Verse 1 Redman]\\n\\nTry to O.K. Corral wit...</td>\n",
       "      <td>2pac</td>\n",
       "      <td>old_school_rappers</td>\n",
       "      <td>1411</td>\n",
       "    </tr>\n",
       "    <tr>\n",
       "      <th>62</th>\n",
       "      <td>https://genius.com/Muslim-all-eyes-on-me-lyrics</td>\n",
       "      <td>\\n\\nParoles de Muslim \"All Eyes On Me\"[Intro]\\...</td>\n",
       "      <td>2pac</td>\n",
       "      <td>old_school_rappers</td>\n",
       "      <td>1183</td>\n",
       "    </tr>\n",
       "    <tr>\n",
       "      <th>77</th>\n",
       "      <td>https://genius.com/Young-lay-amerikka-eatz-itz...</td>\n",
       "      <td>\\n\\n[Intro: Khayree]\\nAwhh yeah, break me off ...</td>\n",
       "      <td>2pac</td>\n",
       "      <td>old_school_rappers</td>\n",
       "      <td>1215</td>\n",
       "    </tr>\n",
       "    <tr>\n",
       "      <th>89</th>\n",
       "      <td>https://genius.com/2pac-and-outlawz-as-the-wor...</td>\n",
       "      <td>\\n\\n[Intro: 2Pac]\\nAs the world turns…\\nAs the...</td>\n",
       "      <td>2pac</td>\n",
       "      <td>old_school_rappers</td>\n",
       "      <td>1162</td>\n",
       "    </tr>\n",
       "    <tr>\n",
       "      <th>90</th>\n",
       "      <td>https://genius.com/2pac-as-the-world-turns-og-...</td>\n",
       "      <td>\\n\\n[Intro: 2Pac]\\nAs the world turns…\\nAs the...</td>\n",
       "      <td>2pac</td>\n",
       "      <td>old_school_rappers</td>\n",
       "      <td>1147</td>\n",
       "    </tr>\n",
       "  </tbody>\n",
       "</table>\n",
       "</div>"
      ],
      "text/plain": [
       "                                             song_url  \\\n",
       "19  https://genius.com/2pac-2pac-cypher-part-2-lyrics   \n",
       "62    https://genius.com/Muslim-all-eyes-on-me-lyrics   \n",
       "77  https://genius.com/Young-lay-amerikka-eatz-itz...   \n",
       "89  https://genius.com/2pac-and-outlawz-as-the-wor...   \n",
       "90  https://genius.com/2pac-as-the-world-turns-og-...   \n",
       "\n",
       "                                               lyrics artist  \\\n",
       "19  \\n\\n[Verse 1 Redman]\\n\\nTry to O.K. Corral wit...   2pac   \n",
       "62  \\n\\nParoles de Muslim \"All Eyes On Me\"[Intro]\\...   2pac   \n",
       "77  \\n\\n[Intro: Khayree]\\nAwhh yeah, break me off ...   2pac   \n",
       "89  \\n\\n[Intro: 2Pac]\\nAs the world turns…\\nAs the...   2pac   \n",
       "90  \\n\\n[Intro: 2Pac]\\nAs the world turns…\\nAs the...   2pac   \n",
       "\n",
       "           rapper_type  word_count  \n",
       "19  old_school_rappers        1411  \n",
       "62  old_school_rappers        1183  \n",
       "77  old_school_rappers        1215  \n",
       "89  old_school_rappers        1162  \n",
       "90  old_school_rappers        1147  "
      ]
     },
     "execution_count": 12,
     "metadata": {},
     "output_type": "execute_result"
    }
   ],
   "source": [
    "high_word_count = data[data.word_count > 1130]\n",
    "high_word_count.head()"
   ]
  },
  {
   "cell_type": "markdown",
   "metadata": {},
   "source": [
    "From a quick look at some of the \"lyrics\" and relevant webpages I saw there is some interviews mixed up in this data. I think we can safely remove all \"songs\" with 1300 words and above ! (We still have a lot of data so we don't need to mind that so much)\n",
    "\n",
    "**But what about low count of words?**<br/>\n",
    "The box plot didn't alert any low count to be an outlier but as I looked at the data I saw there are songs which have it written that there is no lyrics for this song. This kind of songs will have low count of words.\n",
    "And also which rap song has only one word ?\n",
    "\n",
    "So even though based on the IQR calculation there are no low count outliers we would look at some low word count songs:"
   ]
  },
  {
   "cell_type": "code",
   "execution_count": 13,
   "metadata": {},
   "outputs": [
    {
     "name": "stderr",
     "output_type": "stream",
     "text": [
      "/home/ariel/venv/lib/python3.6/site-packages/scipy/stats/stats.py:1713: FutureWarning: Using a non-tuple sequence for multidimensional indexing is deprecated; use `arr[tuple(seq)]` instead of `arr[seq]`. In the future this will be interpreted as an array index, `arr[np.array(seq)]`, which will result either in an error or a different result.\n",
      "  return np.add.reduce(sorted[indexer] * weights, axis=axis) / sumval\n"
     ]
    },
    {
     "data": {
      "image/png": "[encoded data removed]",
      "text/plain": [
       "<Figure size 432x288 with 1 Axes>"
      ]
     },
     "metadata": {},
     "output_type": "display_data"
    }
   ],
   "source": [
    "sns.distplot(data[data.word_count < 1100].word_count, bins=100);"
   ]
  },
  {
   "cell_type": "code",
   "execution_count": 14,
   "metadata": {},
   "outputs": [
    {
     "name": "stderr",
     "output_type": "stream",
     "text": [
      "/home/ariel/venv/lib/python3.6/site-packages/scipy/stats/stats.py:1713: FutureWarning: Using a non-tuple sequence for multidimensional indexing is deprecated; use `arr[tuple(seq)]` instead of `arr[seq]`. In the future this will be interpreted as an array index, `arr[np.array(seq)]`, which will result either in an error or a different result.\n",
      "  return np.add.reduce(sorted[indexer] * weights, axis=axis) / sumval\n"
     ]
    },
    {
     "data": {
      "image/png": "[encoded data removed]",
      "text/plain": [
       "<Figure size 432x288 with 1 Axes>"
      ]
     },
     "metadata": {},
     "output_type": "display_data"
    }
   ],
   "source": [
    "sns.distplot(data[data.word_count < 100].word_count, bins=100);"
   ]
  },
  {
   "cell_type": "code",
   "execution_count": 15,
   "metadata": {},
   "outputs": [
    {
     "data": {
      "text/html": [
       "<div>\n",
       "<style scoped>\n",
       "    .dataframe tbody tr th:only-of-type {\n",
       "        vertical-align: middle;\n",
       "    }\n",
       "\n",
       "    .dataframe tbody tr th {\n",
       "        vertical-align: top;\n",
       "    }\n",
       "\n",
       "    .dataframe thead th {\n",
       "        text-align: right;\n",
       "    }\n",
       "</style>\n",
       "<table border=\"1\" class=\"dataframe\">\n",
       "  <thead>\n",
       "    <tr style=\"text-align: right;\">\n",
       "      <th></th>\n",
       "      <th>song_url</th>\n",
       "      <th>lyrics</th>\n",
       "      <th>artist</th>\n",
       "      <th>rapper_type</th>\n",
       "      <th>word_count</th>\n",
       "    </tr>\n",
       "  </thead>\n",
       "  <tbody>\n",
       "    <tr>\n",
       "      <th>58</th>\n",
       "      <td>https://genius.com/2pac-album-outro-lyrics</td>\n",
       "      <td>\\n\\n[Outro]\\nExpect me nigga like you expect J...</td>\n",
       "      <td>2pac</td>\n",
       "      <td>old_school_rappers</td>\n",
       "      <td>31</td>\n",
       "    </tr>\n",
       "    <tr>\n",
       "      <th>71</th>\n",
       "      <td>https://genius.com/2pac-ambition-over-adversit...</td>\n",
       "      <td>\\n\\nTake ones adversity\\nLearn from their misf...</td>\n",
       "      <td>2pac</td>\n",
       "      <td>old_school_rappers</td>\n",
       "      <td>25</td>\n",
       "    </tr>\n",
       "    <tr>\n",
       "      <th>87</th>\n",
       "      <td>https://genius.com/2pac-a-river-that-flows-for...</td>\n",
       "      <td>\\n\\nAs long as some suffer\\nThe River Flows Fo...</td>\n",
       "      <td>2pac</td>\n",
       "      <td>old_school_rappers</td>\n",
       "      <td>44</td>\n",
       "    </tr>\n",
       "    <tr>\n",
       "      <th>182</th>\n",
       "      <td>https://genius.com/2pac-cupids-smile-ii-annotated</td>\n",
       "      <td>\\n\\nI ran outside 2 feel the rain\\nand I staye...</td>\n",
       "      <td>2pac</td>\n",
       "      <td>old_school_rappers</td>\n",
       "      <td>26</td>\n",
       "    </tr>\n",
       "    <tr>\n",
       "      <th>200</th>\n",
       "      <td>https://genius.com/Akon-dj-vlad-16-on-death-ro...</td>\n",
       "      <td>\\n\\n[Intro: 2Pac]\\nDeath row\\nThat's where mot...</td>\n",
       "      <td>2pac</td>\n",
       "      <td>old_school_rappers</td>\n",
       "      <td>21</td>\n",
       "    </tr>\n",
       "  </tbody>\n",
       "</table>\n",
       "</div>"
      ],
      "text/plain": [
       "                                              song_url  \\\n",
       "58          https://genius.com/2pac-album-outro-lyrics   \n",
       "71   https://genius.com/2pac-ambition-over-adversit...   \n",
       "87   https://genius.com/2pac-a-river-that-flows-for...   \n",
       "182  https://genius.com/2pac-cupids-smile-ii-annotated   \n",
       "200  https://genius.com/Akon-dj-vlad-16-on-death-ro...   \n",
       "\n",
       "                                                lyrics artist  \\\n",
       "58   \\n\\n[Outro]\\nExpect me nigga like you expect J...   2pac   \n",
       "71   \\n\\nTake ones adversity\\nLearn from their misf...   2pac   \n",
       "87   \\n\\nAs long as some suffer\\nThe River Flows Fo...   2pac   \n",
       "182  \\n\\nI ran outside 2 feel the rain\\nand I staye...   2pac   \n",
       "200  \\n\\n[Intro: 2Pac]\\nDeath row\\nThat's where mot...   2pac   \n",
       "\n",
       "            rapper_type  word_count  \n",
       "58   old_school_rappers          31  \n",
       "71   old_school_rappers          25  \n",
       "87   old_school_rappers          44  \n",
       "182  old_school_rappers          26  \n",
       "200  old_school_rappers          21  "
      ]
     },
     "execution_count": 15,
     "metadata": {},
     "output_type": "execute_result"
    }
   ],
   "source": [
    "low_word_count = data[data.word_count < 50]\n",
    "low_word_count.head()"
   ]
  },
  {
   "cell_type": "code",
   "execution_count": null,
   "metadata": {},
   "outputs": [],
   "source": []
  },
  {
   "cell_type": "code",
   "execution_count": null,
   "metadata": {},
   "outputs": [],
   "source": []
  },
  {
   "cell_type": "code",
   "execution_count": null,
   "metadata": {},
   "outputs": [],
   "source": []
  },
  {
   "cell_type": "markdown",
   "metadata": {},
   "source": [
    "## Let's look at duplicate data:\n",
    "Songs may have more than one rapper, so we can encounter duplicates.<br/>\n",
    "A duplicate in this case is when we have more than one rapper with the same lyrics and song url (If it's the same song it should have the same url for lyrics).\n",
    "\n",
    "I'll group songs with the same lyrics. If there is more than one unique url for a unique lyrics, I would want to take further look:"
   ]
  },
  {
   "cell_type": "code",
   "execution_count": 16,
   "metadata": {},
   "outputs": [
    {
     "name": "stdout",
     "output_type": "stream",
     "text": [
      "These links have the same lyrics:\n",
      "https://genius.com/Fashion-genius-fit-of-the-day-5-12-13-annotated\n",
      "https://genius.com/Nas-cherry-wine-single-art-annotated\n",
      "https://genius.com/Nas-daughters-single-art-annotated\n",
      "https://genius.com/Nas-halftime-single-art-annotated\n",
      "https://genius.com/Nas-hate-me-now-single-art-annotated\n",
      "https://genius.com/Nas-hip-hop-is-dead-single-art-annotated\n",
      "https://genius.com/Nas-if-i-ruled-the-world-imagine-that-single-art-annotated\n",
      "https://genius.com/Ice-cube-death-certificate-album-art-annotated\n",
      "https://genius.com/Ice-cube-lethal-injection-album-art-annotated\n",
      "https://genius.com/Gordon-parks-a-great-day-in-hip-hop-lyrics\n",
      "https://genius.com/Redman-dare-iz-a-darkside-album-art-annotated\n",
      "https://genius.com/Beastie-boys-hello-nasty-album-art-annotated\n",
      "https://genius.com/Beastie-boys-ill-communication-album-art-annotated\n",
      "https://genius.com/Beastie-boys-licensed-to-ill-album-art-annotated\n",
      "https://genius.com/Beastie-boys-pauls-boutique-album-art-annotated\n",
      "https://genius.com/Beastie-boys-the-mix-up-album-art-annotated\n",
      "https://genius.com/Beastie-boys-to-the-5-boroughs-album-art-annotated\n",
      "https://genius.com/Gordon-parks-a-great-day-in-hip-hop-lyrics\n",
      "https://genius.com/Nas-hate-me-now-single-art-annotated\n",
      "https://genius.com/Gordon-parks-a-great-day-in-hip-hop-lyrics\n",
      "https://genius.com/Wu-tang-clan-enter-the-wu-tang-36-chambers-artwork-lyrics\n",
      "https://genius.com/Wu-tang-clan-iron-flag-album-cover-annotated\n",
      "https://genius.com/Wu-tang-clan-wu-tang-logo-lyrics\n",
      "https://genius.com/Fashion-genius-fit-of-the-day-6-14-14-annotated\n",
      "https://genius.com/Fashion-genius-fit-of-the-day-1-19-14-annotated\n",
      "https://genius.com/Fashion-genius-fit-of-the-day-1-4-2014-annotated\n",
      "https://genius.com/Fashion-genius-fit-of-the-day-8-19-14-annotated\n",
      "https://genius.com/Big-sean-hall-of-fame-booklet-annotated\n",
      "https://genius.com/Chance-the-rapper-10-day-outfit-10-day-listening-party-lyrics\n",
      "https://genius.com/Chance-the-rapper-acid-rap-outfit-sxsw-2013-annotated\n",
      "https://genius.com/Rene-marban-chance-the-rapper-european-tour-shirt-lyrics\n",
      "https://genius.com/Chance-the-rapper-chance-the-rapper-illinois-university-poster-lyrics\n",
      "https://genius.com/Rock-em-apparel-chance-the-rapper-sock-line-lyrics\n",
      "https://genius.com/Fashion-genius-coachella-outfits-annotated\n",
      "https://genius.com/Fashion-genius-fit-of-the-day-8-4-14-annotated\n",
      "https://genius.com/Fashion-genius-fit-of-the-day-12-15-13-annotated\n",
      "https://genius.com/Fashion-genius-fit-of-the-day-1-5-2014-annotated\n",
      "https://genius.com/A-ap-rocky-livelovea-ap-mixtape-art-lyrics\n",
      "https://genius.com/A-ap-rocky-longlivea-ap-album-art-annotated\n",
      "https://genius.com/J-cole-born-sinner-booklet-annotated\n",
      "https://genius.com/Air-jordan-drake-vs-lil-wayne-iii-annotated\n",
      "https://genius.com/Fashion-genius-fit-of-the-day-1-13-14-annotated\n",
      "https://genius.com/Fashion-genius-fit-of-the-day-6-25-14-annotated\n",
      "https://genius.com/Fashion-genius-fit-of-the-weekend-1-11-14-annotated\n",
      "https://genius.com/Fashion-genius-fit-of-the-day-1-14-14-annotated\n",
      "https://genius.com/Fashion-genius-fit-of-the-day-2-16-14-annotated\n",
      "https://genius.com/Theillustrator-happy-1999-day-illustration-lyrics\n",
      "https://genius.com/Tony-whlgn-joey-bada-x-ab-soul-smokers-club-logo-lyrics\n",
      "https://genius.com/Nike-air-yeezy-2-red-october-annotated\n",
      "https://genius.com/Fashion-genius-fit-of-the-day-11-18-13-annotated\n",
      "https://genius.com/Delusional-thomas-delusional-thomas-artwork-lyrics\n",
      "https://genius.com/Fashion-genius-fit-of-the-day-12-18-13-annotated\n",
      "https://genius.com/Justin-timberlake-justified-booklet-annotated\n",
      "These links have the same lyrics:\n",
      "https://genius.com/Snoop-dogg-coolaid-booklet-annotated\n",
      "https://genius.com/Big-sean-finally-famous-booklet-annotated\n",
      "https://genius.com/A-mulli-chance-the-rapper-artwork-lyrics\n",
      "https://genius.com/Kendrick-lamar-damn-booklet-annotated\n",
      "These links have the same lyrics:\n",
      "https://genius.com/Adidas-big-sean-x-adidas-originals-metro-attitude-hi-annotated\n",
      "https://genius.com/Fashion-genius-fit-of-the-day-1-16-14-annotated\n",
      "https://genius.com/Kanye-west-808s-and-heartbreak-booklet-annotated\n",
      "These links have the same lyrics:\n",
      "https://genius.com/Big-sean-dark-sky-paradise-booklet-annotated\n",
      "https://genius.com/Lisn-up-clothing-lisn-up-clothing-x-lupe-fiasco-lyrics\n",
      "These links have the same lyrics:\n",
      "https://genius.com/J-cole-4-your-eyez-only-booklet-annotated\n",
      "https://genius.com/Pusha-t-my-name-is-my-name-booklet-annotated\n",
      "These links have the same lyrics:\n",
      "https://genius.com/Schoolboy-q-blank-face-lp-trailer-annotated\n",
      "https://genius.com/J-cole-2014-forest-hills-drive-booklet-annotated\n",
      "https://genius.com/Kendrick-lamar-good-kid-maad-city-booklet-annotated\n",
      "These links have the same lyrics:\n",
      "https://genius.com/Beastie-boys-the-negotiation-limerick-file-lyrics\n",
      "https://genius.com/Beastie-boys-the-negotiation-limerick-file-handsome-boy-modeling-school-makeover-lyrics\n",
      "These links have the same lyrics:\n",
      "https://genius.com/Public-enemy-give-it-up-dirty-drums-in-memphis-mixx-lyrics\n",
      "https://genius.com/Public-enemy-give-it-up-don-diablo-full-vocal-mix-lyrics\n",
      "https://genius.com/Public-enemy-give-it-up-don-diablo-radio-edit-lyrics\n",
      "https://genius.com/Public-enemy-give-it-up-don-diablo-remix-lyrics\n",
      "https://genius.com/Public-enemy-give-it-up-instrumental-lyrics\n",
      "https://genius.com/Public-enemy-give-it-up-radio-version-lyrics\n",
      "These links have the same lyrics:\n",
      "https://genius.com/Warren-g-in-case-some-sh-go-down-lyrics\n",
      "https://genius.com/Warren-g-in-case-some-shit-go-down-lyrics\n",
      "These links have the same lyrics:\n",
      "https://genius.com/Beastie-boys-14th-st-break-lyrics\n",
      "https://genius.com/Beastie-boys-b-for-my-name-lyrics\n",
      "https://genius.com/Beastie-boys-eugenes-lament-annotated\n",
      "https://genius.com/Beastie-boys-rickys-theme-lyrics\n",
      "https://genius.com/Beastie-boys-shambala-annotated\n",
      "https://genius.com/Beastie-boys-transtitions-lyrics\n",
      "https://genius.com/Public-enemy-leave-this-off-your-fuckin-charts-lyrics\n",
      "These links have the same lyrics:\n",
      "https://genius.com/Ice-t-funky-gripsta-lyrics\n",
      "https://genius.com/Ice-t-hardcore-lyrics\n",
      "These links have the same lyrics:\n",
      "https://genius.com/Beastie-boys-body-movin-fatboy-slim-remix-lyrics\n",
      "https://genius.com/Beastie-boys-body-movin-kut-masta-kurt-remix-lyrics\n",
      "These links have the same lyrics:\n",
      "https://genius.com/Redman-cant-wait-remix-1-dirty-lyrics\n",
      "https://genius.com/Redman-cant-wait-remix-2-dirty-lyrics\n",
      "These links have the same lyrics:\n",
      "https://genius.com/Xzibit-prime-time-lyrics\n",
      "https://genius.com/Tha-alkaholiks-prime-time-lyrics\n",
      "These links have the same lyrics:\n",
      "https://genius.com/Beastie-boys-beasley-is-a-beast-lyrics\n",
      "https://genius.com/Beastie-boys-fibonacci-sequence-lyrics\n",
      "https://genius.com/Beastie-boys-ltd-lyrics\n",
      "https://genius.com/Beastie-boys-politickin-lyrics\n",
      "https://genius.com/Beastie-boys-the-panda-rat-lyrics\n",
      "https://genius.com/Drake-at-the-mall-lyrics\n",
      "These links have the same lyrics:\n",
      "https://genius.com/Jay-z-freestyle-invasion-ii-lyrics\n",
      "https://genius.com/The-notorious-big-and-camron-gun-talk-green-lantern-mix-lyrics\n",
      "https://genius.com/Lil-kim-magic-stick-green-lantern-remix-lyrics\n",
      "These links have the same lyrics:\n",
      "https://genius.com/Stephen-simmonds-alone-lyrics\n",
      "https://genius.com/Wu-tang-clan--lyrics\n",
      "https://genius.com/Lil-uzi-vert-in-da-field-lyrics\n",
      "These links have the same lyrics:\n",
      "https://genius.com/Dmx-born-loser-original-lyrics\n",
      "https://genius.com/Dmx-born-loser-remix-lyrics\n",
      "These links have the same lyrics:\n",
      "https://genius.com/Puff-daddy-cant-nobody-hold-me-down-bad-boy-remix-extended-club-lyrics\n",
      "https://genius.com/Puff-daddy-cant-nobody-hold-me-down-feat-mase-club-mix-lyrics\n",
      "https://genius.com/Puff-daddy-cant-nobody-hold-me-down-original-club-mix-instrumental-lyrics\n",
      "https://genius.com/Puff-daddy-cant-nobody-hold-me-down-original-radio-edit-lyrics\n",
      "These links have the same lyrics:\n",
      "https://genius.com/Mobb-deep-peer-pressure-the-large-professor-remix-lyrics\n",
      "https://genius.com/Mobb-deep-skit-1-lyrics\n",
      "These links have the same lyrics:\n",
      "https://genius.com/Beastie-boys-heart-attack-man-live-lyrics\n",
      "https://genius.com/Beastie-boys-heart-attack-man-unplugged-lyrics\n",
      "These links have the same lyrics:\n",
      "https://genius.com/Snoop-dogg-california-gurls-feat-snoop-dogg-mstrkrft-main-mix-lyrics\n",
      "https://genius.com/Snoop-dogg-california-gurls-feat-snoop-dogg-passion-pit-main-mix-lyrics\n",
      "These links have the same lyrics:\n",
      "https://genius.com/Dmx-intro-lookin-without-seein-lyrics\n",
      "https://genius.com/Dmx-lookin-without-seein-intro-lyrics\n",
      "These links have the same lyrics:\n",
      "https://genius.com/Warren-g-so-many-ways-bad-boys-version-lyrics\n",
      "https://genius.com/Warren-g-so-many-ways-clean-version-lyrics\n",
      "These links have the same lyrics:\n",
      "https://genius.com/Public-enemy-welcome-to-the-terrordome-instrumental-lyrics\n",
      "https://genius.com/Public-enemy-welcome-to-the-terrordome-live-winterthur-switzerland-1992-lyrics\n",
      "https://genius.com/Public-enemy-welcome-to-the-terrordome-terrormental-lyrics\n",
      "https://genius.com/Public-enemy-welcome-to-the-terrordome-vocal-lyrics\n",
      "These links have the same lyrics:\n",
      "https://genius.com/Rick-ross-dope-bitch-lyrics\n",
      "https://genius.com/Rick-ross-dope-bitch-skit-lyrics\n",
      "These links have the same lyrics:\n",
      "https://genius.com/Public-enemy-shut-em-down-album-version-lyrics\n",
      "https://genius.com/Public-enemy-shut-em-down-bald-beat-breakapella-lyrics\n",
      "https://genius.com/Public-enemy-shut-em-down-live-in-the-uk-lyrics\n",
      "https://genius.com/Public-enemy-shut-em-down-rock-mixx-instrumental-lyrics\n",
      "These links have the same lyrics:\n",
      "https://genius.com/Public-enemy-shut-em-down-pete-rock-mixx-lyrics\n",
      "https://genius.com/Public-enemy-shut-em-down-the-functionist-version-lyrics\n",
      "These links have the same lyrics:\n",
      "https://genius.com/Public-enemy-by-the-time-i-get-to-arizona-arizona-assassination-attempt-acca-double-dub-lyrics\n",
      "https://genius.com/Public-enemy-by-the-time-i-get-to-arizona-the-moleman-mixx-lyrics\n",
      "These links have the same lyrics:\n",
      "https://genius.com/Nate-dogg-i-pledge-allegiance-pti-lyrics\n",
      "https://genius.com/Nate-dogg-i-pledge-allegiance-ptii-lyrics\n",
      "These links have the same lyrics:\n",
      "https://genius.com/Myzery-dont-push-me-lyrics\n",
      "https://genius.com/Xzibit-intro-restless-lyrics\n",
      "These links have the same lyrics:\n",
      "https://genius.com/Redman-funky-uncles-lyrics\n",
      "https://genius.com/Redman-news-break-lyrics\n",
      "https://genius.com/Talib-kweli-goodfellas-karen-and-henry-lyrics\n",
      "https://genius.com/Wu-tang-clan-london-dungeons-guillotine-mix-lyrics\n",
      "These links have the same lyrics:\n",
      "https://genius.com/Snoop-dogg-back-up-ho-instrumental-lyrics\n",
      "https://genius.com/Beastie-boys-dirty-dog-lyrics\n",
      "https://genius.com/Beastie-boys-drinkin-wine-annotated\n",
      "https://genius.com/Beastie-boys-sabrosa-annotated\n",
      "https://genius.com/Beastie-boys-son-of-neckbone-lyrics\n",
      "https://genius.com/Warren-g-whats-next-instrumental-lyrics\n",
      "https://genius.com/Nicki-minaj-fly-instrumental-lyrics\n",
      "These links have the same lyrics:\n",
      "https://genius.com/Shyheim-pass-it-off-underground-acapella-lyrics\n",
      "https://genius.com/Shyheim-pass-it-off-underground-remix-lyrics\n",
      "These links have the same lyrics:\n",
      "https://genius.com/Ll-cool-j-baby-feat-the-dream-lyrics\n",
      "https://genius.com/Ll-cool-j-baby-promo-only-clean-edit-lyrics\n",
      "These links have the same lyrics:\n",
      "https://genius.com/Public-enemy-nighttrain-lirr-strong-island-instrumental-mixx-lyrics\n",
      "https://genius.com/Public-enemy-nighttrain-pete-rock-get-up-get-into-it-get-involved-mixx-lyrics\n",
      "https://genius.com/Public-enemy-nighttrain-pete-rock-lirr-strong-island-mixx-lyrics\n",
      "https://genius.com/Public-enemy-nighttrain-remix-lyrics\n",
      "These links have the same lyrics:\n",
      "https://genius.com/Chance-the-rapper-my-way-lyrics\n",
      "https://genius.com/Drake-focus-lyrics\n",
      "https://genius.com/David-guetta-boy-youve-got-me-lyrics\n",
      "https://genius.com/Nicki-minaj-girls-lyrics\n",
      "https://genius.com/David-guetta-boy-youve-got-me-lyrics\n",
      "These links have the same lyrics:\n",
      "https://genius.com/Ll-cool-j-doin-it-instrumental-lyrics\n",
      "https://genius.com/Ll-cool-j-doin-it-lp-version-lyrics\n",
      "https://genius.com/Ll-cool-j-doin-it-on-the-air-lyrics\n",
      "These links have the same lyrics:\n",
      "https://genius.com/The-notorious-big-n-a-lyrics\n",
      "https://genius.com/2-chainz-gettin-em-hi-grade-remix-lyrics\n"
     ]
    },
    {
     "name": "stdout",
     "output_type": "stream",
     "text": [
      "These links have the same lyrics:\n",
      "https://genius.com/Ll-cool-j-control-myself-joe-bermudez-radio-edit-lyrics\n",
      "https://genius.com/Ll-cool-j-control-myself-joe-bermudez-tantric-experience-lyrics\n",
      "https://genius.com/Ll-cool-j-control-myself-nevins-electrotek-club-mix-lyrics\n",
      "https://genius.com/Ll-cool-j-control-myself-nevins-electrotek-edit-lyrics\n",
      "https://genius.com/Ll-cool-j-control-myself-nevins-elektrotek-edit-feat-jennifer-lopez-lyrics\n",
      "https://genius.com/Ll-cool-j-control-myself-nevins-elektrotek-mix-lyrics\n",
      "https://genius.com/Ll-cool-j-control-myself-promo-only-clean-edit-lyrics\n",
      "These links have the same lyrics:\n",
      "https://genius.com/Warren-g-nobody-does-it-better-lyrics\n",
      "https://genius.com/Warren-g-nobody-does-it-better-single-version-lyrics\n",
      "These links have the same lyrics:\n",
      "https://genius.com/Public-enemy-do-you-wanna-go-our-way-23-skidoo-uk-remix-lyrics\n",
      "https://genius.com/Public-enemy-do-you-wanna-go-our-way-nextmen-uk-mix-lyrics\n",
      "https://genius.com/Public-enemy-do-you-wanna-go-our-way-nexttmen-uk-remix-lyrics\n",
      "These links have the same lyrics:\n",
      "https://genius.com/Chance-the-rapper-2017-in-australia-2016-in-chi-annotated\n",
      "https://genius.com/Chance-the-rapper-2017-in-australia-a-poem-annotated\n",
      "https://genius.com/Chance-the-rapper-chances-australia-poem-lyrics\n",
      "These links have the same lyrics:\n",
      "https://genius.com/Xzibit-movin-in-your-chucks-lyrics\n",
      "https://genius.com/Lil-bozo-a-peal-lyrics\n",
      "These links have the same lyrics:\n",
      "https://genius.com/Digital-underground-kiss-you-back-full-french-kiss-mix-lyrics\n",
      "https://genius.com/Digital-underground-kiss-you-back-single-version-lyrics\n",
      "https://genius.com/Digital-underground-kiss-you-back-smack-on-the-cheek-mix-lyrics\n",
      "These links have the same lyrics:\n",
      "https://genius.com/Epmd-rampage-hardcore-to-the-head-mix-lyrics\n",
      "https://genius.com/Epmd-rampage-remix-lyrics\n",
      "These links have the same lyrics:\n",
      "https://genius.com/Lil-yachty-bitches-lyrics\n",
      "https://genius.com/Lil-baby-fashion-lyrics\n",
      "These links have the same lyrics:\n",
      "https://genius.com/Public-enemy-miuzi-weighs-a-ton-live-san-francisco-1999-10-21-lyrics\n",
      "https://genius.com/Public-enemy-miuzi-weighs-a-ton-live-with-dj-lord-san-francisco-1999-lyrics\n",
      "These links have the same lyrics:\n",
      "https://genius.com/Public-enemy-so-whatcha-gonna-do-now-album-edit-lyrics\n",
      "https://genius.com/Public-enemy-so-whatcha-gonna-do-now-drive-by-shit-instrumental-lyrics\n",
      "These links have the same lyrics:\n",
      "https://genius.com/Big-sean-blog-lyrics\n",
      "https://genius.com/Big-sean-mc-serch-lyrics\n",
      "https://genius.com/Nicki-minaj-big-spender-lyrics\n",
      "https://genius.com/Nicki-minaj-haterade-lyrics\n",
      "https://genius.com/2-chainz-check-me-out-lyrics\n",
      "https://genius.com/2-chainz-doin-me-daily-lyrics\n",
      "https://genius.com/2-chainz-drug-lord-lyrics\n",
      "https://genius.com/Bob-headband-coucheron-remix-lyrics\n",
      "https://genius.com/Lil-wayne-blood-brothers-lyrics\n",
      "https://genius.com/Rick-ross-ballin-lyrics\n",
      "https://genius.com/Rick-ross-bust-your-heart-lyrics\n",
      "These links have the same lyrics:\n",
      "https://genius.com/Logic-bobby-lyrics\n",
      "https://genius.com/Joyner-lucas-wwjd-skit-lyrics\n",
      "These links have the same lyrics:\n",
      "https://genius.com/Logic-cocaine-lyrics\n",
      "https://genius.com/Logic-crack-by-tha-gram-lyrics\n",
      "https://genius.com/Logic-get-dat-money-lyrics\n",
      "https://genius.com/Logic-goin-in-lyrics\n",
      "https://genius.com/Logic-over-now-lyrics\n",
      "https://genius.com/Logic-rotation-lyrics\n",
      "These links have the same lyrics:\n",
      "https://genius.com/Public-enemy-bring-the-noise-benny-benassi-pump-kin-instrumental-lyrics\n",
      "https://genius.com/Public-enemy-bring-the-noise-benny-benassi-pump-kin-radio-edit-lyrics\n",
      "https://genius.com/Public-enemy-bring-the-noise-benny-benassi-pump-kin-remix-lyrics\n",
      "https://genius.com/Public-enemy-bring-the-noise-benny-benassi-sfaction-instrumental-lyrics\n",
      "https://genius.com/Public-enemy-bring-the-noise-benny-benassi-sfaction-radio-edit-lyrics\n",
      "https://genius.com/Public-enemy-bring-the-noise-benny-benassi-sfaction-remix-lyrics\n",
      "https://genius.com/Public-enemy-bring-the-noise-ferry-corsten-radio-edit-lyrics\n",
      "https://genius.com/Public-enemy-bring-the-noise-ferry-corsten-remix-lyrics\n",
      "These links have the same lyrics:\n",
      "https://genius.com/Dmx-party-up-radio-edit-lyrics\n",
      "https://genius.com/Dmx-party-up-up-in-here-radio-edit-lyrics\n",
      "These links have the same lyrics:\n",
      "https://genius.com/Dmx-party-up-trap-remix-lyrics\n",
      "https://genius.com/Dmx-party-up-up-in-here-album-version-explicit-source-lyrics\n",
      "https://genius.com/Dmx-party-up-up-in-here-dubstep-remix-lyrics\n",
      "https://genius.com/Dmx-party-up-up-in-here-re-recorded-lyrics\n",
      "https://genius.com/Dmx-party-up-up-in-here-re-recorded-remastered-lyrics\n",
      "https://genius.com/Dmx-party-up-up-in-here-shoot-em-remix-lyrics\n",
      "These links have the same lyrics:\n",
      "https://genius.com/Public-enemy-public-enemy-number-one-dj-spooky-drums-of-death-remix-lyrics\n",
      "https://genius.com/Public-enemy-public-enemy-number-one-geronimo-punks-redu-lyrics\n",
      "These links have the same lyrics:\n",
      "https://genius.com/Redman-coc-back-clean-lyrics\n",
      "https://genius.com/Redman-coc-back-dirty-lyrics\n",
      "These links have the same lyrics:\n",
      "https://genius.com/Snoop-dogg-candy-lyrics\n",
      "https://genius.com/Snoop-dogg-candy-drippin-like-water-final-album-version-explicit-lyrics\n",
      "https://genius.com/Snoop-dogg-candy-remix-lyrics\n",
      "These links have the same lyrics:\n",
      "https://genius.com/Public-enemy-harder-than-you-think-london-radio-edit-lyrics\n",
      "https://genius.com/Public-enemy-harder-than-you-think-remix-lyrics\n",
      "These links have the same lyrics:\n",
      "https://genius.com/Big-sean-dance-a-album-version-edited-lyrics\n",
      "https://genius.com/Big-sean-dance-a-explicit-remix-lyrics\n",
      "https://genius.com/Big-sean-dance-a-remix-edited-version-lyrics\n",
      "These links have the same lyrics:\n",
      "https://genius.com/Toro-y-moi-driving-day-lyrics\n",
      "https://genius.com/Cia-ill-legal-instrumental-lyrics\n",
      "https://genius.com/Cia-jus-4-the-cash-instrumental-lyrics\n",
      "https://genius.com/Run-dmc-beast-to-the-rhyme-instrumental-lyrics\n",
      "https://genius.com/Run-dmc-papa-crazy-instrumental-lyrics\n",
      "https://genius.com/Beastie-boys-aunt-jackie-poom-poom-delicious-annotated\n",
      "https://genius.com/Beastie-boys-biscuits-and-butter-lyrics\n",
      "https://genius.com/Beastie-boys-creepin-annotated\n",
      "https://genius.com/Beastie-boys-dirt-dog-annotated\n",
      "https://genius.com/Beastie-boys-dramastically-different-lyrics\n",
      "https://genius.com/Beastie-boys-dub-the-mic-instrumental-lyrics\n",
      "https://genius.com/Beastie-boys-electric-worm-lyrics\n",
      "https://genius.com/Beastie-boys-freaky-hijiki-lyrics\n",
      "https://genius.com/Beastie-boys-groove-holmes-lyrics\n",
      "https://genius.com/Beastie-boys-off-the-grid-lyrics\n",
      "https://genius.com/Beastie-boys-piano-jam-annotated\n",
      "https://genius.com/Beastie-boys-sneakin-out-the-hospital-lyrics\n",
      "https://genius.com/Beastie-boys-stink-bug-annotated\n",
      "https://genius.com/Beastie-boys-suco-de-tangerina-lyrics\n",
      "https://genius.com/Beastie-boys-the-cousin-of-death-lyrics\n",
      "https://genius.com/Beastie-boys-the-drone-annotated\n",
      "https://genius.com/Beastie-boys-the-gala-event-lyrics\n",
      "https://genius.com/Beastie-boys-the-kangaroo-rat-lyrics\n",
      "https://genius.com/Beastie-boys-the-melee-lyrics\n",
      "https://genius.com/Beastie-boys-the-mix-up-lyrics\n",
      "https://genius.com/Beastie-boys-the-rat-cage-lyrics\n",
      "https://genius.com/Xzibit-grand-opening-interlude-lyrics\n",
      "https://genius.com/Xzibit-last-words-interlude-lyrics\n",
      "https://genius.com/Xzibit-mrs-crabtree-interlude-lyrics\n",
      "https://genius.com/Buckwild-the-dream-shatterer-original-instrumental-lyrics\n",
      "https://genius.com/Public-enemy-mind-terrorist-lyrics\n",
      "https://genius.com/Public-enemy-security-of-the-first-world-lyrics\n",
      "https://genius.com/Digital-underground-packet-reprise-lyrics\n",
      "https://genius.com/Digital-underground-the-new-jazz-one-lyrics\n",
      "https://genius.com/Tyler-the-creator-enjoy-right-now-today-lyrics\n",
      "https://genius.com/Tyler-the-creator-fawn-lyrics\n",
      "https://genius.com/Tyler-the-creator-i-dream-lyrics\n",
      "https://genius.com/Tyler-the-creator-sprint-lyrics\n",
      "https://genius.com/Prhyme-underground-kings-instrumental-lyrics\n",
      "https://genius.com/Travis-scott-gifted-instrumental-lyrics\n",
      "https://genius.com/The-graduates-instrumental-lyrics\n",
      "https://genius.com/Travis-scott-manor-instrumental-lyrics\n",
      "https://genius.com/Clams-casino-be-somebody-instrumental-lyrics\n",
      "https://genius.com/Lauren-grande-aint-forget-me-lyrics\n",
      "https://genius.com/Kanye-west-all-of-the-lights-interlude-lyrics\n",
      "https://genius.com/Prhyme-dat-good-sound-instrumental-lyrics\n",
      "https://genius.com/Mac-miller-facebush-lyrics\n",
      "https://genius.com/Mac-miller-here-is-a-bear-lyrics\n",
      "https://genius.com/Mac-miller-hulu-lyrics\n",
      "https://genius.com/Mac-miller-jjjoh-lyrics\n",
      "These links have the same lyrics:\n",
      "https://genius.com/Kali-uchis-after-the-storm-lyrics\n",
      "https://genius.com/Kali-uchis-after-the-storm-pete-rock-remix-lyrics\n"
     ]
    },
    {
     "name": "stdout",
     "output_type": "stream",
     "text": [
      "These links have the same lyrics:\n",
      "https://genius.com/Rapsody-extra-extra-lyrics\n",
      "https://genius.com/Mac-miller-extra-extra-lyrics\n",
      "These links have the same lyrics:\n",
      "https://genius.com/Fetty-wap-rgf-lyrics\n",
      "https://genius.com/Fetty-wap-rgf-island-lyrics\n",
      "These links have the same lyrics:\n",
      "https://genius.com/Foster-the-people-a-beginners-guide-to-destroying-the-moon-lyrics\n",
      "https://genius.com/Foster-the-people-a-beginners-guide-to-destroying-the-moon-live-from-the-village-lyrics\n",
      "These links have the same lyrics:\n",
      "https://genius.com/Mac-miller-frick-park-market-clean-lyrics\n",
      "https://genius.com/Mac-miller-frick-park-market-explicit-lyrics\n",
      "These links have the same lyrics:\n",
      "https://genius.com/Mobb-deep-air-it-out-lyrics\n",
      "https://genius.com/Mobb-deep-noyd-air-it-out-lyrics\n",
      "These links have the same lyrics:\n",
      "https://genius.com/Dmx-have-you-eva-lyrics\n",
      "https://genius.com/Dmx-have-you-eva-grease-lyrics\n",
      "These links have the same lyrics:\n",
      "https://genius.com/Lupe-fiasco-catch-me-lyrics\n",
      "https://genius.com/Dan-the-automator-catch-me-lyrics\n",
      "These links have the same lyrics:\n",
      "https://genius.com/Nitty-scott-afterglow-outro-lyrics\n",
      "https://genius.com/Nitty-scott-flower-child-lyrics\n",
      "These links have the same lyrics:\n",
      "https://genius.com/Fetty-wap-chimmy-choo-lyrics\n",
      "https://genius.com/Fetty-wap-jimmy-choo-lyrics\n",
      "These links have the same lyrics:\n",
      "https://genius.com/Public-enemy-who-stole-the-soul-lyrics\n",
      "https://genius.com/Public-enemy-who-stole-the-soul-sir-jinx-stolen-souled-out-reparation-mixx-lyrics\n",
      "These links have the same lyrics:\n",
      "https://genius.com/Xzibit-state-of-the-union-lyrics\n",
      "https://genius.com/Xzibit-state-of-the-union-xplicit-album-version-lyrics\n"
     ]
    }
   ],
   "source": [
    "for i, same_lyrics in data.groupby('lyrics'):\n",
    "    if len(set(same_lyrics['song_url'])) > 1:\n",
    "        print('These links have the same lyrics:')\n",
    "        print('\\n'.join(same_lyrics['song_url']))"
   ]
  },
  {
   "cell_type": "markdown",
   "metadata": {},
   "source": [
    "It seems that the duplicate lyrics are most of the times different versions of the song or empty lyrics.\n",
    "\n",
    "Because I'm intrested in the actual song lyrics and I don't need two songs with the same lyrics, I'll drop one of them."
   ]
  },
  {
   "cell_type": "code",
   "execution_count": null,
   "metadata": {},
   "outputs": [],
   "source": []
  },
  {
   "cell_type": "code",
   "execution_count": null,
   "metadata": {},
   "outputs": [],
   "source": []
  },
  {
   "cell_type": "markdown",
   "metadata": {},
   "source": [
    "# Drop the outliers and bad data:"
   ]
  },
  {
   "cell_type": "code",
   "execution_count": 17,
   "metadata": {},
   "outputs": [],
   "source": [
    "clean_data = data .copy()\n",
    "# Drop all the strange, ood, snippet, skit data etc ...\n",
    "bad = pd.concat([skit_songs, all_snippet, no_lyrics_in_url, no_english_lyrics])\n",
    "clean_data.drop(set(bad.index), inplace=True)\n",
    "\n",
    "\n",
    "# Drop high word count\n",
    "clean_data.drop(clean_data.query('word_count > 1300').index, inplace=True)\n",
    "\n",
    "# Drop low word count\n",
    "clean_data.drop(clean_data.query('word_count < 50').index, inplace=True)\n",
    "\n",
    "# Drop duplicates\n",
    "clean_data.drop_duplicates(subset=['lyrics'], inplace=True)"
   ]
  },
  {
   "cell_type": "code",
   "execution_count": 18,
   "metadata": {},
   "outputs": [
    {
     "name": "stdout",
     "output_type": "stream",
     "text": [
      "<class 'pandas.core.frame.DataFrame'>\n",
      "Int64Index: 12486 entries, 0 to 14662\n",
      "Data columns (total 5 columns):\n",
      "song_url       12486 non-null object\n",
      "lyrics         12486 non-null object\n",
      "artist         12486 non-null object\n",
      "rapper_type    12486 non-null object\n",
      "word_count     12486 non-null int64\n",
      "dtypes: int64(1), object(4)\n",
      "memory usage: 585.3+ KB\n"
     ]
    }
   ],
   "source": [
    "clean_data.info()"
   ]
  },
  {
   "cell_type": "markdown",
   "metadata": {},
   "source": [
    "So after all the cleaning bad data we got from 14663 song lyrics to 12486 (85% of the original data)."
   ]
  },
  {
   "cell_type": "code",
   "execution_count": 19,
   "metadata": {},
   "outputs": [],
   "source": [
    "# This function gets a raw lyrics string and returns it cleaned after the steps described:\n",
    "def clean_song_lyrics(raw_song_lyrics):\n",
    "    # lower-case all lyrics:\n",
    "    song_lyrics = str(raw_song_lyrics).lower()\n",
    "    # Remove text between brackets: (I'm not sure this is a good idea, Let's look at this) #todo: ?\n",
    "    song_lyrics = re.sub(r'\\([^\\(\\)]+\\)', '', song_lyrics)\n",
    "    # Change \"$\" in a middle of a word to \"s\":\n",
    "    song_lyrics = re.sub(r'\\w(\\$)\\w', 's', song_lyrics)\n",
    "    # all the I'm combinations we will convert to \"I am\". It seems \"I\" is something significant:\n",
    "    song_lyrics = re.sub(r\"[\\s\\b](i.m)[\\s\\b]\", 'i am', song_lyrics)\n",
    "    # Remove irrelevant text between square brackets like rappers names and verse number ...:\n",
    "    song_lyrics = re.sub(r'\\[[^\\[\\]]+\\]', '', song_lyrics)\n",
    "    # Remove anything that is not a word, a number or white-space (like ' and ?)\n",
    "    song_lyrics = re.sub('[^\\w\\s]', '', song_lyrics)\n",
    "    return song_lyrics"
   ]
  },
  {
   "cell_type": "code",
   "execution_count": 20,
   "metadata": {},
   "outputs": [],
   "source": [
    "clean_data['clean_lyrics'] = clean_data['lyrics'].apply(clean_song_lyrics)"
   ]
  },
  {
   "cell_type": "markdown",
   "metadata": {},
   "source": [
    "Clean slangs:"
   ]
  },
  {
   "cell_type": "code",
   "execution_count": 21,
   "metadata": {},
   "outputs": [],
   "source": [
    "slang_word_convertor = {\n",
    "    \"aint\":\"are not\",\n",
    "    \"cause\":\"because\",\n",
    "    \"wanna\":\"want to\",\n",
    "    \"em\":\"them\",\n",
    "    \"yeah\":\"yes\",\n",
    "    \"gotta\":\"got to\",\n",
    "    \"yall\":\"you all\",\n",
    "    \"ya\":'you',\n",
    "    'ho':'hoe',\n",
    "    \"gon\":\"going to\",\n",
    "    \"gonna\":\"going to\",\n",
    "    \"lil\":\"little\",\n",
    "    \"fuckin\":\"fucking\",\n",
    "    \"motherfuckin\":\"motherfucking\",\n",
    "    \"gettin\":\"getting\",\n",
    "    \"tryna\":\"trying to\",\n",
    "    \"bout\":\"about\",\n",
    "    \"ima\":\"i am going to\",\n",
    "    \"wit\":\"with\",\n",
    "    \"imma\":\"i am going to\",\n",
    "    \"til\":\"until\",\n",
    "    \"talkin\":\"talking\",\n",
    "    \"gangsta\":\"gangster\",\n",
    "    \"comin\":\"coming\",\n",
    "    \"homie\":\"home boy\",\n",
    "    \"livin\":\"living\",\n",
    "    \"runnin\":\"running\",\n",
    "    \"smokin\":\"smoking\",\n",
    "    \"rollin\":\"rolling\",\n",
    "    \"makin\":\"making\",\n",
    "    \"thang\":\"thing\",\n",
    "    \"ridin\":\"riding\",\n",
    "    \"lookin\":\"looking\",\n",
    "    \"gimme\":\"give me\",\n",
    "    \"takin\":\"taking\",\n",
    "    \"playin\":\"playing\",\n",
    "    \"poppin\":\"popping\",\n",
    "    \"sayin\":\"saying\",\n",
    "    \"thinkin\":\"thinking\",\n",
    "}\n"
   ]
  },
  {
   "cell_type": "code",
   "execution_count": 22,
   "metadata": {},
   "outputs": [],
   "source": [
    "# slang_word_convertor = {f'[\\b\\s]({key})[\\b\\s]':value for key, value in slang_word_convertor.items()}\n",
    "\n",
    "# clean_data['clean_lyrics'] = clean_data['clean_lyrics'].str.replace(slang_word_convertor)\n",
    "\n",
    "for key, value in slang_word_convertor.items():\n",
    "    clean_data['clean_lyrics'] = clean_data['clean_lyrics'].str.replace(f'[\\b\\s]({key})[\\b\\s]', value)"
   ]
  },
  {
   "cell_type": "markdown",
   "metadata": {},
   "source": [
    "After this clean up we can go ahead and **get to know our data better**:<br/>\n",
    "start by simply ploting the amout of full song lyrics we have from each type of \"rapper_type\":"
   ]
  },
  {
   "cell_type": "code",
   "execution_count": null,
   "metadata": {
    "scrolled": true
   },
   "outputs": [],
   "source": [
    "sns.countplot(data=clean_data, x='rapper_type');"
   ]
  },
  {
   "cell_type": "markdown",
   "metadata": {},
   "source": [
    "There is a little more new school rappers lyrics than old school ones but **it's not that significant**.\n",
    "\n",
    "### But wait a minute ! Who are the rappers?"
   ]
  },
  {
   "cell_type": "code",
   "execution_count": null,
   "metadata": {},
   "outputs": [],
   "source": [
    "for school in ['new_school_rappers', 'old_school_rappers']:\n",
    "    rappers_songs = clean_data[clean_data.rapper_type == school].artist.value_counts()\n",
    "    print(f\"These are the {len(rappers_songs)} {school} and how much songs they have:\")\n",
    "    print(rappers_songs)\n",
    "    print('\\n')"
   ]
  },
  {
   "cell_type": "code",
   "execution_count": null,
   "metadata": {},
   "outputs": [],
   "source": []
  },
  {
   "cell_type": "markdown",
   "metadata": {},
   "source": [
    "## Word Cloud\n",
    "Word cloud is a nice way to plot frequent words"
   ]
  },
  {
   "cell_type": "code",
   "execution_count": null,
   "metadata": {},
   "outputs": [],
   "source": [
    "from wordcloud import WordCloud, STOPWORDS, ImageColorGenerator\n",
    "def word_cloud_plot(text):\n",
    "    # Generate a word cloud image\n",
    "    wordcloud = WordCloud(background_color=\"white\", scale=3).generate(text)\n",
    "\n",
    "    # Display the generated image:\n",
    "    # the matplotlib way:\n",
    "    plt.figure(figsize=(55, 10))\n",
    "    plt.imshow(wordcloud, interpolation='bilinear')\n",
    "    plt.axis(\"off\")\n",
    "    plt.tight_layout()"
   ]
  },
  {
   "cell_type": "code",
   "execution_count": null,
   "metadata": {},
   "outputs": [],
   "source": [
    "all_lyrics = ' '.join(clean_data['clean_lyrics']).replace('\\n', ' ')\n",
    "word_cloud_plot(all_lyrics)"
   ]
  },
  {
   "cell_type": "markdown",
   "metadata": {},
   "source": [
    "Word Cloud are nor a really good plot for info ...\n",
    "Let's show which are the most significant words another way."
   ]
  },
  {
   "cell_type": "code",
   "execution_count": null,
   "metadata": {},
   "outputs": [],
   "source": [
    "import operator\n",
    "from nltk.corpus import stopwords\n",
    "import nltk\n",
    "\n",
    "def find_significat_words(text):\n",
    "    stemmer = nltk.stem.SnowballStemmer('english')\n",
    "    stops = set(stopwords.words('english'))\n",
    "    \n",
    "    words_counter = {}\n",
    "    for word in text.split():\n",
    "#         word = stemmer.stem(word)\n",
    "        word = word.lower()\n",
    "        \n",
    "        if word in stops:\n",
    "            continue\n",
    "            \n",
    "        if not word in words_counter:\n",
    "            words_counter[word] = 0\n",
    "        words_counter[word] += 1\n",
    "    return words_counter"
   ]
  },
  {
   "cell_type": "code",
   "execution_count": null,
   "metadata": {},
   "outputs": [],
   "source": [
    "all_dirty_lyrics = ' '.join(clean_data['lyrics'])\n",
    "words_counter = find_significat_words(all_dirty_lyrics)\n",
    "words = pd.DataFrame.from_dict(words_counter, orient='index',\n",
    "                                   columns=['count']).sort_values('count', ascending=False)\n",
    "words.head(20)"
   ]
  },
  {
   "cell_type": "code",
   "execution_count": null,
   "metadata": {},
   "outputs": [],
   "source": [
    "word = re.compile(\"[\\b\\s]{}[\\b\\s]\".format(\"mi\"))\n",
    "for song in clean_data['lyrics']:\n",
    "    for m in word.finditer(song):\n",
    "        place = m.start()\n",
    "        print(song[place-30:place+30])\n",
    "        print('---------------\\n')"
   ]
  },
  {
   "cell_type": "code",
   "execution_count": null,
   "metadata": {},
   "outputs": [],
   "source": [
    "w = \"round\"\n",
    "nltk.stem.SnowballStemmer('english').stem(w)"
   ]
  },
  {
   "cell_type": "code",
   "execution_count": null,
   "metadata": {},
   "outputs": [],
   "source": [
    "last_word_index = list(words.index).index(\"beautiful\")\n",
    "[v for i, v in enumerate(list(words.index)) if i > last_word_index]"
   ]
  },
  {
   "cell_type": "markdown",
   "metadata": {},
   "source": [
    "# Think what todo with can't and stuff"
   ]
  },
  {
   "cell_type": "markdown",
   "metadata": {},
   "source": [
    "### New School Rappers"
   ]
  },
  {
   "cell_type": "code",
   "execution_count": null,
   "metadata": {},
   "outputs": [],
   "source": [
    "all_new_school_lyrics = ' '.join(clean_data[clean_data.rapper_type == 'new_school_rappers']['clean_lyrics'])\n",
    "\n",
    "new_words_counter = find_significat_words(all_new_school_lyrics)\n",
    "new_words = pd.DataFrame.from_dict(new_words_counter, orient='index',\n",
    "                                   columns=['count']).sort_values('count', ascending=False)\n",
    "new_words['count'] = new_words['count'] / clean_data[clean_data.rapper_type == 'old_school_rappers'].shape[0]\n",
    "new_words.head(20)"
   ]
  },
  {
   "cell_type": "markdown",
   "metadata": {},
   "source": [
    "### Old School Rappers Word Cloud"
   ]
  },
  {
   "cell_type": "code",
   "execution_count": null,
   "metadata": {},
   "outputs": [],
   "source": [
    "all_old_school_lyrics = ' '.join(clean_data[clean_data.rapper_type == 'old_school_rappers']['clean_lyrics']).replace('\\n', ' ')\n",
    "\n",
    "old_words_counter = find_significat_words(all_old_school_lyrics)\n",
    "old_words = pd.DataFrame.from_dict(old_words_counter, orient='index', columns=['count']).sort_values('count', ascending=False)\n",
    "old_words['count'] = old_words['count'] / clean_data[clean_data.rapper_type == 'old_school_rappers'].shape[0]\n",
    "old_words.head(20)"
   ]
  },
  {
   "cell_type": "markdown",
   "metadata": {},
   "source": [
    "## Is there difference in the legth of the songs?\n",
    "We will masure length by the number of words"
   ]
  },
  {
   "cell_type": "code",
   "execution_count": null,
   "metadata": {
    "scrolled": true
   },
   "outputs": [],
   "source": [
    "clean_data.groupby('rapper_type')['word_count'].agg(['mean', 'median', 'min', 'max'])"
   ]
  },
  {
   "cell_type": "code",
   "execution_count": null,
   "metadata": {},
   "outputs": [],
   "source": [
    "sns.catplot(x=\"rapper_type\", y=\"word_count\", data=clean_data);"
   ]
  },
  {
   "cell_type": "markdown",
   "metadata": {},
   "source": [
    "I don't think we can find any real significant difference in the word count."
   ]
  },
  {
   "cell_type": "code",
   "execution_count": null,
   "metadata": {},
   "outputs": [],
   "source": []
  },
  {
   "cell_type": "code",
   "execution_count": null,
   "metadata": {},
   "outputs": [],
   "source": []
  },
  {
   "cell_type": "markdown",
   "metadata": {},
   "source": [
    "\n",
    "I think it's time to start building our model\n",
    "\n",
    "# ML model building"
   ]
  },
  {
   "cell_type": "code",
   "execution_count": null,
   "metadata": {},
   "outputs": [],
   "source": [
    "from sklearn.model_selection import RepeatedStratifiedKFold, GridSearchCV\n",
    "from sklearn.feature_extraction import text\n",
    "from sklearn.preprocessing import FunctionTransformer, MaxAbsScaler\n",
    "from sklearn.linear_model import LogisticRegression, SGDClassifier\n",
    "from sklearn.ensemble import RandomForestClassifier\n",
    "from sklearn.pipeline import Pipeline\n",
    "from ariels_utils import MLTester\n",
    "from sklearn.svm import SVC\n",
    "from sklearn.decomposition import TruncatedSVD\n",
    "from sklearn.model_selection import train_test_split\n",
    "from sklearn import metrics\n",
    "from nltk.corpus import stopwords"
   ]
  },
  {
   "cell_type": "code",
   "execution_count": null,
   "metadata": {},
   "outputs": [],
   "source": [
    "from nltk.stem import SnowballStemmer\n",
    "from sklearn.feature_extraction.text import TfidfVectorizer\n",
    "\n",
    "\n",
    "class StemmedVectorizer_analyzer(TfidfVectorizer):\n",
    "    def custom_stop_words(self):\n",
    "        english_stop_words = set(stopwords.words(\"english\"))\n",
    "        \n",
    "        return english_stop_words\n",
    "\n",
    "    def build_analyzer(self):\n",
    "        analyzer = super(StemmedVectorizer_analyzer, self).build_analyzer()\n",
    "        stemmer = SnowballStemmer(\"english\")\n",
    "        english_stop_words = self.custom_stop_words()\n",
    "        return lambda doc: ([stemmer.stem(w) for w in analyzer(doc) if w not in english_stop_words])\n"
   ]
  },
  {
   "cell_type": "code",
   "execution_count": null,
   "metadata": {},
   "outputs": [],
   "source": [
    "X = clean_data['clean_lyrics']\n",
    "y = clean_data['rapper_type']\n"
   ]
  },
  {
   "cell_type": "code",
   "execution_count": null,
   "metadata": {},
   "outputs": [],
   "source": [
    "model = Pipeline(\n",
    "        [\n",
    "            ('vec', StemmedVectorizer_analyzer(binary=True, max_df=0.4, min_df=0.001, ngram_range=(1, 2))),\n",
    "            ('minmax', MaxAbsScaler()),\n",
    "            ('SGD', SGDClassifier(loss='log', penalty='l2', alpha=0.0001, l1_ratio=0.3,\n",
    "                                  max_iter=1000, epsilon=0.1, n_jobs=-1,\n",
    "                                  learning_rate='optimal', eta0=0.0, power_t=0.0,\n",
    "                                  early_stopping=True, validation_fraction=0.15, n_iter_no_change=5))\n",
    "#             ('logreg', LogisticRegression(penalty='l1', dual=False, tol=0.0001, C=0.1, max_iter=100))\n",
    "        ]\n",
    "    )"
   ]
  },
  {
   "cell_type": "code",
   "execution_count": null,
   "metadata": {},
   "outputs": [],
   "source": [
    "x_train, x_test, y_train, y_test = train_test_split(X, y, stratify=y)\n",
    "model.fit(x_train, y_train)\n",
    "y_pred_train = model.predict(x_train)\n",
    "print(metrics.classification_report(y_train, y_pred_train))\n",
    "y_pred = model.predict(x_test)\n",
    "print(metrics.classification_report(y_test, y_pred))"
   ]
  },
  {
   "cell_type": "code",
   "execution_count": null,
   "metadata": {},
   "outputs": [],
   "source": [
    "MLTester(model, X, y, scoring_method='f1_weighted', n_jobs=3, splitting_method=RepeatedStratifiedKFold,\n",
    "         splitting_method_params={'n_splits': 5}).run()"
   ]
  },
  {
   "cell_type": "markdown",
   "metadata": {},
   "source": [
    "I did a Repeated Stratified KFold test with 5 fold which where repeated 10 times (total 50 runs). \n",
    "\n",
    "we can use a simple train_test_split to get a better classification report of our predictions:"
   ]
  },
  {
   "cell_type": "markdown",
   "metadata": {},
   "source": [
    "# Interpret the model's decisions"
   ]
  },
  {
   "cell_type": "code",
   "execution_count": null,
   "metadata": {},
   "outputs": [],
   "source": [
    "model.fit(X, y)"
   ]
  },
  {
   "cell_type": "code",
   "execution_count": null,
   "metadata": {},
   "outputs": [],
   "source": [
    "import eli5\n",
    "eli5.show_weights(model)"
   ]
  },
  {
   "cell_type": "markdown",
   "metadata": {},
   "source": [
    "**btw I think old school hip hop is better**"
   ]
  }
 ],
 "metadata": {
  "kernelspec": {
   "display_name": "Python 3",
   "language": "python",
   "name": "python3"
  },
  "language_info": {
   "codemirror_mode": {
    "name": "ipython",
    "version": 3
   },
   "file_extension": ".py",
   "mimetype": "text/x-python",
   "name": "python",
   "nbconvert_exporter": "python",
   "pygments_lexer": "ipython3",
   "version": "3.6.3"
  }
 },
 "nbformat": 4,
 "nbformat_minor": 2
}
